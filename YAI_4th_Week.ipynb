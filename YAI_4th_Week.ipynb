{
  "nbformat": 4,
  "nbformat_minor": 0,
  "metadata": {
    "accelerator": "GPU",
    "colab": {
      "name": "YAI_4주차_과제_기초1팀.ipynb",
      "provenance": [],
      "collapsed_sections": []
    },
    "kernelspec": {
      "display_name": "Python 3",
      "language": "python",
      "name": "python3"
    },
    "language_info": {
      "codemirror_mode": {
        "name": "ipython",
        "version": 3
      },
      "file_extension": ".py",
      "mimetype": "text/x-python",
      "name": "python",
      "nbconvert_exporter": "python",
      "pygments_lexer": "ipython3",
      "version": "3.8.5"
    }
  },
  "cells": [
    {
      "cell_type": "markdown",
      "metadata": {
        "id": "1_R5zDoMPCn-"
      },
      "source": [
        "## **ResNet: Training a Classifier**"
      ]
    },
    {
      "cell_type": "markdown",
      "metadata": {
        "id": "9yRGyn4aX0TY"
      },
      "source": [
        "## What is CIFAR10?\n"
      ]
    },
    {
      "cell_type": "markdown",
      "metadata": {
        "id": "dP78eTggVqs6"
      },
      "source": [
        "The CIFAR-10 dataset consists of 60000 32x32 colour images in 10 classes, with 6000 images per class. There are 50000 training images and 10000 test images.\n",
        "\n",
        "The dataset is divided into five training batches and one test batch, each with 10000 images. The test batch contains exactly 1000 randomly-selected images from each class. The training batches contain the remaining images in random order, but some training batches may contain more images from one class than another. Between them, the training batches contain exactly 5000 images from each class.\n",
        "\n",
        "Link: https://www.cs.toronto.edu/~kriz/cifar.html\n"
      ]
    },
    {
      "cell_type": "markdown",
      "metadata": {
        "id": "NiAXxfcwUyqN"
      },
      "source": [
        "# **Mission**\n",
        "\n",
        "In the lecture, you have seen how to define neural networks, compute loss and make updates to the weights of the network. In this task, you will classify CIFAR10 images by using a ResNet."
      ]
    },
    {
      "cell_type": "markdown",
      "metadata": {
        "id": "7myYsUvkXY5K"
      },
      "source": [
        "We will do the following steps in order:\n",
        "\n",
        "1. Load and normalize the CIFAR10 training and test datasets using torchvision\n",
        "2. Define a Convolutional Neural Network\n",
        "3. Define a loss function\n",
        "4. Train the network on the training data\n",
        "5. Test the network on the test data"
      ]
    },
    {
      "cell_type": "markdown",
      "metadata": {
        "id": "f13OlAEMXcsU"
      },
      "source": [
        "# **Complete the code for each section and train the model.**"
      ]
    },
    {
      "cell_type": "markdown",
      "metadata": {
        "id": "x5aOZfXF8eU5"
      },
      "source": [
        "You can set the number of layers freely when constructing a model. Share the results among your team members."
      ]
    },
    {
      "cell_type": "code",
      "metadata": {
        "id": "q7knKmusOo_M"
      },
      "source": [
        "# import\n",
        "import torch\n",
        "import torch.nn as nn\n",
        "import torchvision\n",
        "import torchvision.transforms as transforms"
      ],
      "execution_count": null,
      "outputs": []
    },
    {
      "cell_type": "code",
      "metadata": {
        "id": "AjJ7qErdOvIn"
      },
      "source": [
        "# Device configuration\n",
        "device = torch.device('cuda' if torch.cuda.is_available() else 'cpu')"
      ],
      "execution_count": null,
      "outputs": []
    },
    {
      "cell_type": "code",
      "metadata": {
        "id": "N7vb5NJlOvNL"
      },
      "source": [
        "# Hyper-parameters\n",
        "num_epochs = 80\n",
        "learning_rate = 0.001"
      ],
      "execution_count": null,
      "outputs": []
    },
    {
      "cell_type": "code",
      "metadata": {
        "id": "QlsVI8GlOvO_"
      },
      "source": [
        "# Image preprocessing modules\n",
        "transform = transforms.Compose([\n",
        "    ############################################################################\n",
        "    # Complete the code                                                        #\n",
        "    ############################################################################                             \n",
        "    transforms.Pad(4),\n",
        "    transforms.RandomHorizontalFlip(),\n",
        "    transforms.RandomCrop(32),\n",
        "    transforms.ToTensor()\n",
        "    ])"
      ],
      "execution_count": null,
      "outputs": []
    },
    {
      "cell_type": "code",
      "metadata": {
        "colab": {
          "background_save": true,
          "referenced_widgets": [
            "efba4ad9180b44c09ecf95faf719ac55"
          ]
        },
        "id": "bQI4lNyfOvRQ",
        "outputId": "ac92bccc-f360-4ab3-a9ef-c81b0e8b2af7"
      },
      "source": [
        "# CIFAR-10 dataset\n",
        "train_dataset = torchvision.datasets.CIFAR10(root='../../data/',\n",
        "                                             train=True, \n",
        "                                             transform=transform,\n",
        "                                             download=True)\n",
        "\n",
        "test_dataset = torchvision.datasets.CIFAR10(root='../../data/',\n",
        "                                            train=False, \n",
        "                                            transform=transforms.ToTensor())"
      ],
      "execution_count": null,
      "outputs": [
        {
          "output_type": "stream",
          "text": [
            "Downloading https://www.cs.toronto.edu/~kriz/cifar-10-python.tar.gz to ../../data/cifar-10-python.tar.gz\n"
          ],
          "name": "stdout"
        },
        {
          "output_type": "display_data",
          "data": {
            "application/vnd.jupyter.widget-view+json": {
              "model_id": "efba4ad9180b44c09ecf95faf719ac55",
              "version_major": 2,
              "version_minor": 0
            },
            "text/plain": [
              "HBox(children=(FloatProgress(value=0.0, max=170498071.0), HTML(value='')))"
            ]
          },
          "metadata": {
            "tags": []
          }
        },
        {
          "output_type": "stream",
          "text": [
            "\n",
            "Extracting ../../data/cifar-10-python.tar.gz to ../../data/\n"
          ],
          "name": "stdout"
        }
      ]
    },
    {
      "cell_type": "code",
      "metadata": {
        "colab": {
          "background_save": true
        },
        "id": "G0vxG_IdOzAu"
      },
      "source": [
        "# Data loader\n",
        "train_loader = torch.utils.data.DataLoader(dataset=train_dataset,\n",
        "                                           batch_size=100, \n",
        "                                           shuffle=True)\n",
        "\n",
        "test_loader = torch.utils.data.DataLoader(dataset=test_dataset,\n",
        "                                          batch_size=100, \n",
        "                                          shuffle=False)"
      ],
      "execution_count": null,
      "outputs": []
    },
    {
      "cell_type": "code",
      "metadata": {
        "colab": {
          "background_save": true
        },
        "id": "vKpJR1suOz3-"
      },
      "source": [
        "# 3x3 convolution\n",
        "\n",
        "def conv3x3(in_channels, out_channels, stride=1):\n",
        "    return nn.Conv2d(in_channels, out_channels, kernel_size=3, stride=stride, padding=1, bias=False)\n",
        "    ############################################################################\n",
        "    # Complete the code                                                        #\n",
        "    ############################################################################ \n",
        "    "
      ],
      "execution_count": null,
      "outputs": []
    },
    {
      "cell_type": "code",
      "metadata": {
        "colab": {
          "background_save": true
        },
        "id": "O5NWn8kRO08J"
      },
      "source": [
        "# Residual block\n",
        "class ResidualBlock(nn.Module):\n",
        "    def __init__(self, in_channels, out_channels, stride=1, downsample=None):\n",
        "        super(ResidualBlock, self).__init__()\n",
        "        self.conv1 = conv3x3(in_channels, out_channels, stride)\n",
        "        self.bn1 = nn.BatchNorm2d(out_channels)\n",
        "        self.relu = nn.ReLU(inplace=True)\n",
        "        self.conv2 = conv3x3(out_channels, out_channels)\n",
        "        self.bn2 = nn.BatchNorm2d(out_channels)\n",
        "        self.downsample = downsample\n",
        "        self.stride = stride\n",
        "            ############################################################################\n",
        "            # Complete the code                                                        #\n",
        "            ############################################################################ \n",
        "\n",
        "    def forward(self, x):\n",
        "            ############################################################################\n",
        "            # Complete the code                                                        #\n",
        "            ############################################################################ \n",
        "        identity = x\n",
        "        out = self.conv1(x)\n",
        "        out = self.bn1(out)\n",
        "        out = self.relu(out)\n",
        "        out = self.conv2(out)\n",
        "        out = self.bn2(out)\n",
        "      \n",
        "        if self.downsample is not None:\n",
        "          identity = self.downsample(x)\n",
        "\n",
        "        out += identity\n",
        "        out = self.relu(out)\n",
        "        \n",
        "        return out\n"
      ],
      "execution_count": null,
      "outputs": []
    },
    {
      "cell_type": "code",
      "metadata": {
        "colab": {
          "background_save": true
        },
        "id": "wAaArbp3O2KU"
      },
      "source": [
        "# ResNet\n",
        "class ResNet(nn.Module):\n",
        "    def __init__(self, block, layers, num_classes=10):\n",
        "        super(ResNet, self).__init__()\n",
        "\n",
        "        self.in_channels = 16\n",
        "        self.conv = nn.Conv2d(3, 16, kernel_size=3, stride=1, padding=1, bias=False)\n",
        "        self.bn = nn.BatchNorm2d(16)\n",
        "        self.relu = nn.ReLU(inplace=True)\n",
        "        self.layer1 = self.make_layer(block, 16, layers[0])\n",
        "        self.layer2 = self.make_layer(block, 32, layers[1], 2)\n",
        "        self.layer3 = self.make_layer(block, 64, layers[2], 2)\n",
        "        self.avg_pool = nn.AvgPool2d(8)\n",
        "        self.fc = nn.Linear(64, num_classes)\n",
        "\n",
        "            ############################################################################\n",
        "            # Complete the code                                                        #\n",
        "            ############################################################################ \n",
        "\n",
        "    def make_layer(self, block, out_channels, blocks, stride=1):\n",
        "        downsample = None\n",
        "        if stride != 1 or self.in_channels != out_channels:\n",
        "          downsample = nn.Sequential(\n",
        "              conv3x3(self.in_channels, out_channels, stride=stride),\n",
        "              nn.BatchNorm2d(out_channels)\n",
        "          )\n",
        "        layers = []\n",
        "        layers.append(block(self.in_channels, out_channels, stride, downsample))\n",
        "        self.in_channels = out_channels\n",
        "        for i in range(1, blocks):\n",
        "          layers.append(block(out_channels, out_channels))\n",
        "            ############################################################################\n",
        "            # Complete the code                                                        #\n",
        "            ############################################################################ \n",
        "        return nn.Sequential(*layers)\n",
        "\n",
        "    def forward(self, x):\n",
        "        out = self.conv(x)\n",
        "        out = self.bn(out)\n",
        "        out = self.relu(out)\n",
        "        out = self.layer1(out)\n",
        "        out = self.layer2(out)\n",
        "        out = self.layer3(out)\n",
        "        out = self.avg_pool(out)\n",
        "        out = out.view(out.size(0), -1)\n",
        "        out = self.fc(out)\n",
        "            ############################################################################\n",
        "            # Complete the code                                                        #\n",
        "            ############################################################################ \n",
        "        return out\n",
        "\n",
        "model = ResNet(ResidualBlock, [2, 2, 2]).to(device)"
      ],
      "execution_count": null,
      "outputs": []
    },
    {
      "cell_type": "code",
      "metadata": {
        "colab": {
          "background_save": true
        },
        "id": "YOgYDvtuO5iS"
      },
      "source": [
        "# Loss and optimizer\n",
        "criterion = nn.CrossEntropyLoss()\n",
        "optimizer = torch.optim.Adam(model.parameters(), lr=learning_rate)"
      ],
      "execution_count": null,
      "outputs": []
    },
    {
      "cell_type": "code",
      "metadata": {
        "colab": {
          "background_save": true
        },
        "id": "kd1wN-WxO6iO"
      },
      "source": [
        "# For updating learning rate\n",
        "def update_lr(optimizer, lr):    \n",
        "    for param_group in optimizer.param_groups:\n",
        "        param_group['lr'] = lr"
      ],
      "execution_count": null,
      "outputs": []
    },
    {
      "cell_type": "code",
      "metadata": {
        "id": "4n9S3E8kO7nH",
        "colab": {
          "base_uri": "https://localhost:8080/"
        },
        "outputId": "2091ae12-8a73-4545-ce39-6dbd438cab0a"
      },
      "source": [
        "# Train the model\n",
        "total_step = len(train_loader)\n",
        "curr_lr = learning_rate\n",
        "for epoch in range(num_epochs):\n",
        "    for i, (images, labels) in enumerate(train_loader):\n",
        "        images = images.to(device)\n",
        "        labels = labels.to(device)\n",
        "\n",
        "        # Forward pass\n",
        "        outputs = model(images)\n",
        "        loss = criterion(outputs, labels)\n",
        "            ############################################################################\n",
        "            # Complete the code                                                        #\n",
        "            ############################################################################ \n",
        "\n",
        "        # Backward and optimize\n",
        "        optimizer.zero_grad()\n",
        "        loss.backward()\n",
        "        optimizer.step()\n",
        "            ############################################################################\n",
        "            # Complete the code                                                        #\n",
        "            ############################################################################ \n",
        "            \n",
        "        if (i+1) % 100 == 0:\n",
        "            print (\"Epoch [{}/{}], Step [{}/{}] Loss: {:.4f}\"\n",
        "                   .format(epoch+1, num_epochs, i+1, total_step, loss.item()))\n",
        "\n",
        "    # Decay learning rate\n",
        "    if (epoch+1) % 20 == 0:\n",
        "        curr_lr /= 3\n",
        "        update_lr(optimizer, curr_lr)\n"
      ],
      "execution_count": 12,
      "outputs": [
        {
          "output_type": "stream",
          "text": [
            "Epoch [1/80], Step [100/500] Loss: 1.5190\n",
            "Epoch [1/80], Step [200/500] Loss: 1.4203\n",
            "Epoch [1/80], Step [300/500] Loss: 1.3825\n",
            "Epoch [1/80], Step [400/500] Loss: 1.2183\n",
            "Epoch [1/80], Step [500/500] Loss: 1.1009\n",
            "Epoch [2/80], Step [100/500] Loss: 1.1335\n",
            "Epoch [2/80], Step [200/500] Loss: 1.1554\n",
            "Epoch [2/80], Step [300/500] Loss: 0.8729\n",
            "Epoch [2/80], Step [400/500] Loss: 1.0143\n",
            "Epoch [2/80], Step [500/500] Loss: 1.0701\n",
            "Epoch [3/80], Step [100/500] Loss: 0.8709\n",
            "Epoch [3/80], Step [200/500] Loss: 0.9556\n",
            "Epoch [3/80], Step [300/500] Loss: 0.8561\n",
            "Epoch [3/80], Step [400/500] Loss: 0.8931\n",
            "Epoch [3/80], Step [500/500] Loss: 0.6584\n",
            "Epoch [4/80], Step [100/500] Loss: 0.7997\n",
            "Epoch [4/80], Step [200/500] Loss: 0.7263\n",
            "Epoch [4/80], Step [300/500] Loss: 0.7449\n",
            "Epoch [4/80], Step [400/500] Loss: 0.7438\n",
            "Epoch [4/80], Step [500/500] Loss: 0.7651\n",
            "Epoch [5/80], Step [100/500] Loss: 0.7790\n",
            "Epoch [5/80], Step [200/500] Loss: 0.6536\n",
            "Epoch [5/80], Step [300/500] Loss: 0.5827\n",
            "Epoch [5/80], Step [400/500] Loss: 0.7365\n",
            "Epoch [5/80], Step [500/500] Loss: 0.4719\n",
            "Epoch [6/80], Step [100/500] Loss: 0.6876\n",
            "Epoch [6/80], Step [200/500] Loss: 0.5828\n",
            "Epoch [6/80], Step [300/500] Loss: 0.6277\n",
            "Epoch [6/80], Step [400/500] Loss: 0.6169\n",
            "Epoch [6/80], Step [500/500] Loss: 0.5235\n",
            "Epoch [7/80], Step [100/500] Loss: 0.6534\n",
            "Epoch [7/80], Step [200/500] Loss: 0.6245\n",
            "Epoch [7/80], Step [300/500] Loss: 0.4588\n",
            "Epoch [7/80], Step [400/500] Loss: 0.7043\n",
            "Epoch [7/80], Step [500/500] Loss: 0.4633\n",
            "Epoch [8/80], Step [100/500] Loss: 0.4788\n",
            "Epoch [8/80], Step [200/500] Loss: 0.4317\n",
            "Epoch [8/80], Step [300/500] Loss: 0.5872\n",
            "Epoch [8/80], Step [400/500] Loss: 0.4671\n",
            "Epoch [8/80], Step [500/500] Loss: 0.7080\n",
            "Epoch [9/80], Step [100/500] Loss: 0.6450\n",
            "Epoch [9/80], Step [200/500] Loss: 0.5256\n",
            "Epoch [9/80], Step [300/500] Loss: 0.5706\n",
            "Epoch [9/80], Step [400/500] Loss: 0.3991\n",
            "Epoch [9/80], Step [500/500] Loss: 0.6652\n",
            "Epoch [10/80], Step [100/500] Loss: 0.3856\n",
            "Epoch [10/80], Step [200/500] Loss: 0.4150\n",
            "Epoch [10/80], Step [300/500] Loss: 0.6498\n",
            "Epoch [10/80], Step [400/500] Loss: 0.5902\n",
            "Epoch [10/80], Step [500/500] Loss: 0.4869\n",
            "Epoch [11/80], Step [100/500] Loss: 0.6231\n",
            "Epoch [11/80], Step [200/500] Loss: 0.4939\n",
            "Epoch [11/80], Step [300/500] Loss: 0.5054\n",
            "Epoch [11/80], Step [400/500] Loss: 0.5323\n",
            "Epoch [11/80], Step [500/500] Loss: 0.4458\n",
            "Epoch [12/80], Step [100/500] Loss: 0.3631\n",
            "Epoch [12/80], Step [200/500] Loss: 0.4075\n",
            "Epoch [12/80], Step [300/500] Loss: 0.5322\n",
            "Epoch [12/80], Step [400/500] Loss: 0.3260\n",
            "Epoch [12/80], Step [500/500] Loss: 0.6246\n",
            "Epoch [13/80], Step [100/500] Loss: 0.5596\n",
            "Epoch [13/80], Step [200/500] Loss: 0.5698\n",
            "Epoch [13/80], Step [300/500] Loss: 0.3247\n",
            "Epoch [13/80], Step [400/500] Loss: 0.3582\n",
            "Epoch [13/80], Step [500/500] Loss: 0.3014\n",
            "Epoch [14/80], Step [100/500] Loss: 0.3798\n",
            "Epoch [14/80], Step [200/500] Loss: 0.3388\n",
            "Epoch [14/80], Step [300/500] Loss: 0.4653\n",
            "Epoch [14/80], Step [400/500] Loss: 0.3622\n",
            "Epoch [14/80], Step [500/500] Loss: 0.2447\n",
            "Epoch [15/80], Step [100/500] Loss: 0.2682\n",
            "Epoch [15/80], Step [200/500] Loss: 0.5170\n",
            "Epoch [15/80], Step [300/500] Loss: 0.3512\n",
            "Epoch [15/80], Step [400/500] Loss: 0.4425\n",
            "Epoch [15/80], Step [500/500] Loss: 0.4753\n",
            "Epoch [16/80], Step [100/500] Loss: 0.3334\n",
            "Epoch [16/80], Step [200/500] Loss: 0.3294\n",
            "Epoch [16/80], Step [300/500] Loss: 0.4565\n",
            "Epoch [16/80], Step [400/500] Loss: 0.3989\n",
            "Epoch [16/80], Step [500/500] Loss: 0.4611\n",
            "Epoch [17/80], Step [100/500] Loss: 0.4047\n",
            "Epoch [17/80], Step [200/500] Loss: 0.3239\n",
            "Epoch [17/80], Step [300/500] Loss: 0.3583\n",
            "Epoch [17/80], Step [400/500] Loss: 0.3472\n",
            "Epoch [17/80], Step [500/500] Loss: 0.3545\n",
            "Epoch [18/80], Step [100/500] Loss: 0.2708\n",
            "Epoch [18/80], Step [200/500] Loss: 0.2807\n",
            "Epoch [18/80], Step [300/500] Loss: 0.2749\n",
            "Epoch [18/80], Step [400/500] Loss: 0.3726\n",
            "Epoch [18/80], Step [500/500] Loss: 0.4196\n",
            "Epoch [19/80], Step [100/500] Loss: 0.3784\n",
            "Epoch [19/80], Step [200/500] Loss: 0.4462\n",
            "Epoch [19/80], Step [300/500] Loss: 0.3858\n",
            "Epoch [19/80], Step [400/500] Loss: 0.2535\n",
            "Epoch [19/80], Step [500/500] Loss: 0.3203\n",
            "Epoch [20/80], Step [100/500] Loss: 0.2746\n",
            "Epoch [20/80], Step [200/500] Loss: 0.3137\n",
            "Epoch [20/80], Step [300/500] Loss: 0.3689\n",
            "Epoch [20/80], Step [400/500] Loss: 0.3321\n",
            "Epoch [20/80], Step [500/500] Loss: 0.3460\n",
            "Epoch [21/80], Step [100/500] Loss: 0.3746\n",
            "Epoch [21/80], Step [200/500] Loss: 0.2327\n",
            "Epoch [21/80], Step [300/500] Loss: 0.2624\n",
            "Epoch [21/80], Step [400/500] Loss: 0.2636\n",
            "Epoch [21/80], Step [500/500] Loss: 0.2448\n",
            "Epoch [22/80], Step [100/500] Loss: 0.1831\n",
            "Epoch [22/80], Step [200/500] Loss: 0.2494\n",
            "Epoch [22/80], Step [300/500] Loss: 0.2842\n",
            "Epoch [22/80], Step [400/500] Loss: 0.3080\n",
            "Epoch [22/80], Step [500/500] Loss: 0.2409\n",
            "Epoch [23/80], Step [100/500] Loss: 0.3202\n",
            "Epoch [23/80], Step [200/500] Loss: 0.2816\n",
            "Epoch [23/80], Step [300/500] Loss: 0.2797\n",
            "Epoch [23/80], Step [400/500] Loss: 0.3636\n",
            "Epoch [23/80], Step [500/500] Loss: 0.2886\n",
            "Epoch [24/80], Step [100/500] Loss: 0.2988\n",
            "Epoch [24/80], Step [200/500] Loss: 0.2305\n",
            "Epoch [24/80], Step [300/500] Loss: 0.1798\n",
            "Epoch [24/80], Step [400/500] Loss: 0.2763\n",
            "Epoch [24/80], Step [500/500] Loss: 0.2736\n",
            "Epoch [25/80], Step [100/500] Loss: 0.2611\n",
            "Epoch [25/80], Step [200/500] Loss: 0.3071\n",
            "Epoch [25/80], Step [300/500] Loss: 0.1496\n",
            "Epoch [25/80], Step [400/500] Loss: 0.2940\n",
            "Epoch [25/80], Step [500/500] Loss: 0.2044\n",
            "Epoch [26/80], Step [100/500] Loss: 0.3639\n",
            "Epoch [26/80], Step [200/500] Loss: 0.3118\n",
            "Epoch [26/80], Step [300/500] Loss: 0.2799\n",
            "Epoch [26/80], Step [400/500] Loss: 0.2623\n",
            "Epoch [26/80], Step [500/500] Loss: 0.2271\n",
            "Epoch [27/80], Step [100/500] Loss: 0.2577\n",
            "Epoch [27/80], Step [200/500] Loss: 0.2199\n",
            "Epoch [27/80], Step [300/500] Loss: 0.2027\n",
            "Epoch [27/80], Step [400/500] Loss: 0.2794\n",
            "Epoch [27/80], Step [500/500] Loss: 0.2823\n",
            "Epoch [28/80], Step [100/500] Loss: 0.2141\n",
            "Epoch [28/80], Step [200/500] Loss: 0.3097\n",
            "Epoch [28/80], Step [300/500] Loss: 0.1399\n",
            "Epoch [28/80], Step [400/500] Loss: 0.1874\n",
            "Epoch [28/80], Step [500/500] Loss: 0.3033\n",
            "Epoch [29/80], Step [100/500] Loss: 0.2009\n",
            "Epoch [29/80], Step [200/500] Loss: 0.3279\n",
            "Epoch [29/80], Step [300/500] Loss: 0.1882\n",
            "Epoch [29/80], Step [400/500] Loss: 0.3386\n",
            "Epoch [29/80], Step [500/500] Loss: 0.3112\n",
            "Epoch [30/80], Step [100/500] Loss: 0.2612\n",
            "Epoch [30/80], Step [200/500] Loss: 0.2473\n",
            "Epoch [30/80], Step [300/500] Loss: 0.2240\n",
            "Epoch [30/80], Step [400/500] Loss: 0.2086\n",
            "Epoch [30/80], Step [500/500] Loss: 0.3991\n",
            "Epoch [31/80], Step [100/500] Loss: 0.2448\n",
            "Epoch [31/80], Step [200/500] Loss: 0.3843\n",
            "Epoch [31/80], Step [300/500] Loss: 0.2113\n",
            "Epoch [31/80], Step [400/500] Loss: 0.1947\n",
            "Epoch [31/80], Step [500/500] Loss: 0.2662\n",
            "Epoch [32/80], Step [100/500] Loss: 0.2974\n",
            "Epoch [32/80], Step [200/500] Loss: 0.3468\n",
            "Epoch [32/80], Step [300/500] Loss: 0.2445\n",
            "Epoch [32/80], Step [400/500] Loss: 0.1696\n",
            "Epoch [32/80], Step [500/500] Loss: 0.2096\n",
            "Epoch [33/80], Step [100/500] Loss: 0.2838\n",
            "Epoch [33/80], Step [200/500] Loss: 0.1722\n",
            "Epoch [33/80], Step [300/500] Loss: 0.2989\n",
            "Epoch [33/80], Step [400/500] Loss: 0.2842\n",
            "Epoch [33/80], Step [500/500] Loss: 0.3286\n",
            "Epoch [34/80], Step [100/500] Loss: 0.1535\n",
            "Epoch [34/80], Step [200/500] Loss: 0.3031\n",
            "Epoch [34/80], Step [300/500] Loss: 0.1499\n",
            "Epoch [34/80], Step [400/500] Loss: 0.3147\n",
            "Epoch [34/80], Step [500/500] Loss: 0.1762\n",
            "Epoch [35/80], Step [100/500] Loss: 0.2558\n",
            "Epoch [35/80], Step [200/500] Loss: 0.2339\n",
            "Epoch [35/80], Step [300/500] Loss: 0.2917\n",
            "Epoch [35/80], Step [400/500] Loss: 0.2201\n",
            "Epoch [35/80], Step [500/500] Loss: 0.3322\n",
            "Epoch [36/80], Step [100/500] Loss: 0.1557\n",
            "Epoch [36/80], Step [200/500] Loss: 0.1701\n",
            "Epoch [36/80], Step [300/500] Loss: 0.1920\n",
            "Epoch [36/80], Step [400/500] Loss: 0.1844\n",
            "Epoch [36/80], Step [500/500] Loss: 0.3593\n",
            "Epoch [37/80], Step [100/500] Loss: 0.2341\n",
            "Epoch [37/80], Step [200/500] Loss: 0.1918\n",
            "Epoch [37/80], Step [300/500] Loss: 0.1328\n",
            "Epoch [37/80], Step [400/500] Loss: 0.2496\n",
            "Epoch [37/80], Step [500/500] Loss: 0.2442\n",
            "Epoch [38/80], Step [100/500] Loss: 0.2186\n",
            "Epoch [38/80], Step [200/500] Loss: 0.1891\n",
            "Epoch [38/80], Step [300/500] Loss: 0.1750\n",
            "Epoch [38/80], Step [400/500] Loss: 0.2925\n",
            "Epoch [38/80], Step [500/500] Loss: 0.1919\n",
            "Epoch [39/80], Step [100/500] Loss: 0.2178\n",
            "Epoch [39/80], Step [200/500] Loss: 0.2121\n",
            "Epoch [39/80], Step [300/500] Loss: 0.2432\n",
            "Epoch [39/80], Step [400/500] Loss: 0.1800\n",
            "Epoch [39/80], Step [500/500] Loss: 0.2920\n",
            "Epoch [40/80], Step [100/500] Loss: 0.2480\n",
            "Epoch [40/80], Step [200/500] Loss: 0.2439\n",
            "Epoch [40/80], Step [300/500] Loss: 0.2376\n",
            "Epoch [40/80], Step [400/500] Loss: 0.1576\n",
            "Epoch [40/80], Step [500/500] Loss: 0.1415\n",
            "Epoch [41/80], Step [100/500] Loss: 0.1516\n",
            "Epoch [41/80], Step [200/500] Loss: 0.1352\n",
            "Epoch [41/80], Step [300/500] Loss: 0.2003\n",
            "Epoch [41/80], Step [400/500] Loss: 0.1736\n",
            "Epoch [41/80], Step [500/500] Loss: 0.1503\n",
            "Epoch [42/80], Step [100/500] Loss: 0.2189\n",
            "Epoch [42/80], Step [200/500] Loss: 0.1624\n",
            "Epoch [42/80], Step [300/500] Loss: 0.1286\n",
            "Epoch [42/80], Step [400/500] Loss: 0.2170\n",
            "Epoch [42/80], Step [500/500] Loss: 0.1994\n",
            "Epoch [43/80], Step [100/500] Loss: 0.1789\n",
            "Epoch [43/80], Step [200/500] Loss: 0.1892\n",
            "Epoch [43/80], Step [300/500] Loss: 0.1432\n",
            "Epoch [43/80], Step [400/500] Loss: 0.1486\n",
            "Epoch [43/80], Step [500/500] Loss: 0.1385\n",
            "Epoch [44/80], Step [100/500] Loss: 0.0919\n",
            "Epoch [44/80], Step [200/500] Loss: 0.1237\n",
            "Epoch [44/80], Step [300/500] Loss: 0.1658\n",
            "Epoch [44/80], Step [400/500] Loss: 0.2017\n",
            "Epoch [44/80], Step [500/500] Loss: 0.1774\n",
            "Epoch [45/80], Step [100/500] Loss: 0.2385\n",
            "Epoch [45/80], Step [200/500] Loss: 0.2099\n",
            "Epoch [45/80], Step [300/500] Loss: 0.2580\n",
            "Epoch [45/80], Step [400/500] Loss: 0.2498\n",
            "Epoch [45/80], Step [500/500] Loss: 0.1993\n",
            "Epoch [46/80], Step [100/500] Loss: 0.1409\n",
            "Epoch [46/80], Step [200/500] Loss: 0.1105\n",
            "Epoch [46/80], Step [300/500] Loss: 0.1838\n",
            "Epoch [46/80], Step [400/500] Loss: 0.1422\n",
            "Epoch [46/80], Step [500/500] Loss: 0.2920\n",
            "Epoch [47/80], Step [100/500] Loss: 0.2243\n",
            "Epoch [47/80], Step [200/500] Loss: 0.1596\n",
            "Epoch [47/80], Step [300/500] Loss: 0.2208\n",
            "Epoch [47/80], Step [400/500] Loss: 0.0665\n",
            "Epoch [47/80], Step [500/500] Loss: 0.1433\n",
            "Epoch [48/80], Step [100/500] Loss: 0.1327\n",
            "Epoch [48/80], Step [200/500] Loss: 0.1528\n",
            "Epoch [48/80], Step [300/500] Loss: 0.1818\n",
            "Epoch [48/80], Step [400/500] Loss: 0.1705\n",
            "Epoch [48/80], Step [500/500] Loss: 0.1792\n",
            "Epoch [49/80], Step [100/500] Loss: 0.1933\n",
            "Epoch [49/80], Step [200/500] Loss: 0.1807\n",
            "Epoch [49/80], Step [300/500] Loss: 0.1644\n",
            "Epoch [49/80], Step [400/500] Loss: 0.1495\n",
            "Epoch [49/80], Step [500/500] Loss: 0.1940\n",
            "Epoch [50/80], Step [100/500] Loss: 0.1958\n",
            "Epoch [50/80], Step [200/500] Loss: 0.1214\n",
            "Epoch [50/80], Step [300/500] Loss: 0.1823\n",
            "Epoch [50/80], Step [400/500] Loss: 0.1305\n",
            "Epoch [50/80], Step [500/500] Loss: 0.1692\n",
            "Epoch [51/80], Step [100/500] Loss: 0.1651\n",
            "Epoch [51/80], Step [200/500] Loss: 0.1250\n",
            "Epoch [51/80], Step [300/500] Loss: 0.1037\n",
            "Epoch [51/80], Step [400/500] Loss: 0.1038\n",
            "Epoch [51/80], Step [500/500] Loss: 0.1094\n",
            "Epoch [52/80], Step [100/500] Loss: 0.1811\n",
            "Epoch [52/80], Step [200/500] Loss: 0.1504\n",
            "Epoch [52/80], Step [300/500] Loss: 0.1103\n",
            "Epoch [52/80], Step [400/500] Loss: 0.1194\n",
            "Epoch [52/80], Step [500/500] Loss: 0.1852\n",
            "Epoch [53/80], Step [100/500] Loss: 0.1040\n",
            "Epoch [53/80], Step [200/500] Loss: 0.2249\n",
            "Epoch [53/80], Step [300/500] Loss: 0.1230\n",
            "Epoch [53/80], Step [400/500] Loss: 0.2120\n",
            "Epoch [53/80], Step [500/500] Loss: 0.2019\n",
            "Epoch [54/80], Step [100/500] Loss: 0.2146\n",
            "Epoch [54/80], Step [200/500] Loss: 0.1982\n",
            "Epoch [54/80], Step [300/500] Loss: 0.1114\n",
            "Epoch [54/80], Step [400/500] Loss: 0.3256\n",
            "Epoch [54/80], Step [500/500] Loss: 0.1995\n",
            "Epoch [55/80], Step [100/500] Loss: 0.1441\n",
            "Epoch [55/80], Step [200/500] Loss: 0.1197\n",
            "Epoch [55/80], Step [300/500] Loss: 0.2278\n",
            "Epoch [55/80], Step [400/500] Loss: 0.2264\n",
            "Epoch [55/80], Step [500/500] Loss: 0.1312\n",
            "Epoch [56/80], Step [100/500] Loss: 0.1475\n",
            "Epoch [56/80], Step [200/500] Loss: 0.2080\n",
            "Epoch [56/80], Step [300/500] Loss: 0.1007\n",
            "Epoch [56/80], Step [400/500] Loss: 0.2306\n",
            "Epoch [56/80], Step [500/500] Loss: 0.2854\n",
            "Epoch [57/80], Step [100/500] Loss: 0.1438\n",
            "Epoch [57/80], Step [200/500] Loss: 0.1264\n",
            "Epoch [57/80], Step [300/500] Loss: 0.1544\n",
            "Epoch [57/80], Step [400/500] Loss: 0.0772\n",
            "Epoch [57/80], Step [500/500] Loss: 0.3135\n",
            "Epoch [58/80], Step [100/500] Loss: 0.1727\n",
            "Epoch [58/80], Step [200/500] Loss: 0.1196\n",
            "Epoch [58/80], Step [300/500] Loss: 0.1128\n",
            "Epoch [58/80], Step [400/500] Loss: 0.2090\n",
            "Epoch [58/80], Step [500/500] Loss: 0.1208\n",
            "Epoch [59/80], Step [100/500] Loss: 0.1265\n",
            "Epoch [59/80], Step [200/500] Loss: 0.0880\n",
            "Epoch [59/80], Step [300/500] Loss: 0.1981\n",
            "Epoch [59/80], Step [400/500] Loss: 0.0741\n",
            "Epoch [59/80], Step [500/500] Loss: 0.2036\n",
            "Epoch [60/80], Step [100/500] Loss: 0.2521\n",
            "Epoch [60/80], Step [200/500] Loss: 0.1117\n",
            "Epoch [60/80], Step [300/500] Loss: 0.1342\n",
            "Epoch [60/80], Step [400/500] Loss: 0.1212\n",
            "Epoch [60/80], Step [500/500] Loss: 0.1146\n",
            "Epoch [61/80], Step [100/500] Loss: 0.1407\n",
            "Epoch [61/80], Step [200/500] Loss: 0.1878\n",
            "Epoch [61/80], Step [300/500] Loss: 0.1531\n",
            "Epoch [61/80], Step [400/500] Loss: 0.0884\n",
            "Epoch [61/80], Step [500/500] Loss: 0.1798\n",
            "Epoch [62/80], Step [100/500] Loss: 0.1614\n",
            "Epoch [62/80], Step [200/500] Loss: 0.1512\n",
            "Epoch [62/80], Step [300/500] Loss: 0.2470\n",
            "Epoch [62/80], Step [400/500] Loss: 0.1190\n",
            "Epoch [62/80], Step [500/500] Loss: 0.1415\n",
            "Epoch [63/80], Step [100/500] Loss: 0.1699\n",
            "Epoch [63/80], Step [200/500] Loss: 0.1174\n",
            "Epoch [63/80], Step [300/500] Loss: 0.1955\n",
            "Epoch [63/80], Step [400/500] Loss: 0.0650\n",
            "Epoch [63/80], Step [500/500] Loss: 0.1505\n",
            "Epoch [64/80], Step [100/500] Loss: 0.1813\n",
            "Epoch [64/80], Step [200/500] Loss: 0.1180\n",
            "Epoch [64/80], Step [300/500] Loss: 0.2148\n",
            "Epoch [64/80], Step [400/500] Loss: 0.1904\n",
            "Epoch [64/80], Step [500/500] Loss: 0.1763\n",
            "Epoch [65/80], Step [100/500] Loss: 0.1821\n",
            "Epoch [65/80], Step [200/500] Loss: 0.1465\n",
            "Epoch [65/80], Step [300/500] Loss: 0.1304\n",
            "Epoch [65/80], Step [400/500] Loss: 0.1437\n",
            "Epoch [65/80], Step [500/500] Loss: 0.1443\n",
            "Epoch [66/80], Step [100/500] Loss: 0.1962\n",
            "Epoch [66/80], Step [200/500] Loss: 0.1937\n",
            "Epoch [66/80], Step [300/500] Loss: 0.1127\n",
            "Epoch [66/80], Step [400/500] Loss: 0.1270\n",
            "Epoch [66/80], Step [500/500] Loss: 0.1190\n",
            "Epoch [67/80], Step [100/500] Loss: 0.1690\n",
            "Epoch [67/80], Step [200/500] Loss: 0.1669\n",
            "Epoch [67/80], Step [300/500] Loss: 0.1733\n",
            "Epoch [67/80], Step [400/500] Loss: 0.1211\n",
            "Epoch [67/80], Step [500/500] Loss: 0.1168\n",
            "Epoch [68/80], Step [100/500] Loss: 0.1232\n",
            "Epoch [68/80], Step [200/500] Loss: 0.1653\n",
            "Epoch [68/80], Step [300/500] Loss: 0.1606\n",
            "Epoch [68/80], Step [400/500] Loss: 0.1559\n",
            "Epoch [68/80], Step [500/500] Loss: 0.1748\n",
            "Epoch [69/80], Step [100/500] Loss: 0.1006\n",
            "Epoch [69/80], Step [200/500] Loss: 0.1621\n",
            "Epoch [69/80], Step [300/500] Loss: 0.2350\n",
            "Epoch [69/80], Step [400/500] Loss: 0.2024\n",
            "Epoch [69/80], Step [500/500] Loss: 0.0789\n",
            "Epoch [70/80], Step [100/500] Loss: 0.1569\n",
            "Epoch [70/80], Step [200/500] Loss: 0.1273\n",
            "Epoch [70/80], Step [300/500] Loss: 0.0714\n",
            "Epoch [70/80], Step [400/500] Loss: 0.1117\n",
            "Epoch [70/80], Step [500/500] Loss: 0.1566\n",
            "Epoch [71/80], Step [100/500] Loss: 0.1178\n",
            "Epoch [71/80], Step [200/500] Loss: 0.1157\n",
            "Epoch [71/80], Step [300/500] Loss: 0.0785\n",
            "Epoch [71/80], Step [400/500] Loss: 0.0940\n",
            "Epoch [71/80], Step [500/500] Loss: 0.1101\n",
            "Epoch [72/80], Step [100/500] Loss: 0.1250\n",
            "Epoch [72/80], Step [200/500] Loss: 0.0809\n",
            "Epoch [72/80], Step [300/500] Loss: 0.1065\n",
            "Epoch [72/80], Step [400/500] Loss: 0.1063\n",
            "Epoch [72/80], Step [500/500] Loss: 0.1321\n",
            "Epoch [73/80], Step [100/500] Loss: 0.1649\n",
            "Epoch [73/80], Step [200/500] Loss: 0.1185\n",
            "Epoch [73/80], Step [300/500] Loss: 0.1825\n",
            "Epoch [73/80], Step [400/500] Loss: 0.1158\n",
            "Epoch [73/80], Step [500/500] Loss: 0.1524\n",
            "Epoch [74/80], Step [100/500] Loss: 0.0913\n",
            "Epoch [74/80], Step [200/500] Loss: 0.1800\n",
            "Epoch [74/80], Step [300/500] Loss: 0.0641\n",
            "Epoch [74/80], Step [400/500] Loss: 0.1423\n",
            "Epoch [74/80], Step [500/500] Loss: 0.1247\n",
            "Epoch [75/80], Step [100/500] Loss: 0.1297\n",
            "Epoch [75/80], Step [200/500] Loss: 0.1391\n",
            "Epoch [75/80], Step [300/500] Loss: 0.1029\n",
            "Epoch [75/80], Step [400/500] Loss: 0.1320\n",
            "Epoch [75/80], Step [500/500] Loss: 0.1577\n",
            "Epoch [76/80], Step [100/500] Loss: 0.1200\n",
            "Epoch [76/80], Step [200/500] Loss: 0.1283\n",
            "Epoch [76/80], Step [300/500] Loss: 0.2000\n",
            "Epoch [76/80], Step [400/500] Loss: 0.1269\n",
            "Epoch [76/80], Step [500/500] Loss: 0.0824\n",
            "Epoch [77/80], Step [100/500] Loss: 0.1657\n",
            "Epoch [77/80], Step [200/500] Loss: 0.1283\n",
            "Epoch [77/80], Step [300/500] Loss: 0.1311\n",
            "Epoch [77/80], Step [400/500] Loss: 0.1828\n",
            "Epoch [77/80], Step [500/500] Loss: 0.0807\n",
            "Epoch [78/80], Step [100/500] Loss: 0.0865\n",
            "Epoch [78/80], Step [200/500] Loss: 0.1582\n",
            "Epoch [78/80], Step [300/500] Loss: 0.1680\n",
            "Epoch [78/80], Step [400/500] Loss: 0.1551\n",
            "Epoch [78/80], Step [500/500] Loss: 0.1312\n",
            "Epoch [79/80], Step [100/500] Loss: 0.1454\n",
            "Epoch [79/80], Step [200/500] Loss: 0.1280\n",
            "Epoch [79/80], Step [300/500] Loss: 0.1497\n",
            "Epoch [79/80], Step [400/500] Loss: 0.1156\n",
            "Epoch [79/80], Step [500/500] Loss: 0.3081\n",
            "Epoch [80/80], Step [100/500] Loss: 0.2354\n",
            "Epoch [80/80], Step [200/500] Loss: 0.1281\n",
            "Epoch [80/80], Step [300/500] Loss: 0.1128\n",
            "Epoch [80/80], Step [400/500] Loss: 0.2263\n",
            "Epoch [80/80], Step [500/500] Loss: 0.2440\n"
          ],
          "name": "stdout"
        }
      ]
    },
    {
      "cell_type": "code",
      "metadata": {
        "id": "LbaiVs4-O9hf",
        "colab": {
          "base_uri": "https://localhost:8080/"
        },
        "outputId": "dc561d46-dbe7-499b-ea77-68915aef6293"
      },
      "source": [
        "# Test the model\n",
        "model.eval()\n",
        "with torch.no_grad():\n",
        "    correct = 0\n",
        "    total = 0\n",
        "    for images, labels in test_loader:\n",
        "        images = images.to(device)\n",
        "        labels = labels.to(device)\n",
        "        outputs = model(images)\n",
        "        _, predicted = torch.max(outputs.data, 1)\n",
        "        total += labels.size(0)\n",
        "        correct += (predicted == labels).sum().item()\n",
        "\n",
        "    print('Accuracy of the model on the test images: {} %'.format(100 * correct / total))"
      ],
      "execution_count": 13,
      "outputs": [
        {
          "output_type": "stream",
          "text": [
            "Accuracy of the model on the test images: 88.05 %\n"
          ],
          "name": "stdout"
        }
      ]
    },
    {
      "cell_type": "code",
      "metadata": {
        "id": "KPkD1KfmPAFY"
      },
      "source": [
        "# Save the model checkpoint\n",
        "torch.save(model.state_dict(), 'resnet.ckpt')"
      ],
      "execution_count": 14,
      "outputs": []
    }
  ]
}