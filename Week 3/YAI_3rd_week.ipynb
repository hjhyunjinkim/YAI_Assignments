{
  "nbformat": 4,
  "nbformat_minor": 0,
  "metadata": {
    "colab": {
      "name": "YAI_3rd_week_기초1팀.ipynb",
      "provenance": [],
      "collapsed_sections": []
    },
    "kernelspec": {
      "name": "python3",
      "display_name": "Python 3"
    },
    "language_info": {
      "name": "python"
    }
  },
  "cells": [
    {
      "cell_type": "markdown",
      "metadata": {
        "id": "pECkovGTiNvz"
      },
      "source": [
        "# LeNet-5 FashionMNIST Classification\n",
        "Implement\n",
        "*   Set hyper parameters\n",
        "*   Call dataset from torchvision & make dataloader\n",
        "*   Build a LeNet-5\n",
        "*   Instantiate LeNet & define loss function and optimizer\n",
        "*   Training\n",
        "*   Test\n",
        "\n",
        "\n",
        "\n",
        "\n",
        "\n"
      ]
    },
    {
      "cell_type": "code",
      "metadata": {
        "id": "ZZ8EsREtJuY_"
      },
      "source": [
        "import torch\n",
        "import torch.nn as nn\n",
        "import torch.nn.functional as F\n",
        "import torchvision\n",
        "import torchvision.transforms as transforms\n",
        "\n",
        "# Set seed\n",
        "torch.manual_seed(777)\n",
        "\n",
        "# Set device\n",
        "device = torch.device('cuda' if torch.cuda.is_available() else 'cpu')"
      ],
      "execution_count": 10,
      "outputs": []
    },
    {
      "cell_type": "markdown",
      "metadata": {
        "id": "1glM0x2rlfp3"
      },
      "source": [
        "# Set hyper parameters \n"
      ]
    },
    {
      "cell_type": "code",
      "metadata": {
        "id": "RSoRT4LQL7MO"
      },
      "source": [
        "num_epochs = 10\n",
        "batch_size = 128\n",
        "learning_rate = 0.001"
      ],
      "execution_count": 11,
      "outputs": []
    },
    {
      "cell_type": "markdown",
      "metadata": {
        "id": "3Opzyvz3lgHW"
      },
      "source": [
        "# Call dataset from torchvision & make dataloader"
      ]
    },
    {
      "cell_type": "code",
      "metadata": {
        "id": "pRFF7sQbz3Fu"
      },
      "source": [
        "# Load dataset \n",
        "train_dataset = torchvision.datasets.FashionMNIST(root=\"MNIST_data/\", train=True, transform=transforms.ToTensor(), download=True)\n",
        "\n",
        "test_dataset = torchvision.datasets.FashionMNIST(root=\"MNIST_data/\", train=False, transform=transforms.ToTensor(), download=True)\n",
        "\n",
        "# Data loader\n",
        "train_loader = torch.utils.data.DataLoader(dataset=train_dataset, batch_size = batch_size, shuffle = True, drop_last = True) \n",
        "\n",
        "test_loader = torch.utils.data.DataLoader(dataset = test_dataset, batch_size = batch_size, shuffle = True, drop_last = True)"
      ],
      "execution_count": 12,
      "outputs": []
    },
    {
      "cell_type": "markdown",
      "metadata": {
        "id": "vZ59BF91lg-b"
      },
      "source": [
        "# Build a LeNet-5"
      ]
    },
    {
      "cell_type": "code",
      "metadata": {
        "id": "R75QeL26MOih"
      },
      "source": [
        "# LeNet\n",
        "class LeNet(nn.Module):\n",
        "  def __init__(self):\n",
        "    super(LeNet, self).__init__()\n",
        "    self.layer1 = nn.Sequential(\n",
        "        nn.Conv2d(1, 6, kernel_size=5, stride= 1, padding = 2),      #Padding과 Stride를 어떻게 확인하는가?\n",
        "        nn.ReLU(),\n",
        "        nn.AvgPool2d(2)\n",
        "    )\n",
        "    self.layer2 = nn.Sequential(\n",
        "        nn.Conv2d(6, 16, kernel_size = 5, stride = 1),\n",
        "        nn.ReLU(),\n",
        "        nn.AvgPool2d(2)\n",
        "    )\n",
        "    self.layer3 = nn.Sequential(\n",
        "        nn.Conv2d(16, 120, kernel_size = 5, stride=1),\n",
        "        nn.ReLU()\n",
        "    )\n",
        "    self.fc1 = nn.Linear(120, 84)\n",
        "    nn.init.xavier_uniform_(self.fc1.weight)\n",
        "    self.relu = nn.ReLU()            #이부분 주의\n",
        "    self.fc2 = nn.Linear(84, 10)\n",
        "    nn.init.xavier_uniform_(self.fc2.weight)\n",
        "\n",
        "  def forward(self, x):\n",
        "    out = self.layer1(x)\n",
        "    out = self.layer2(out)\n",
        "    out = self.layer3(out)\n",
        "    out = out.view(out.size(0), -1)\n",
        "    out = self.fc1(out)\n",
        "    out = self.fc2(out)\n",
        "    return out"
      ],
      "execution_count": 13,
      "outputs": []
    },
    {
      "cell_type": "markdown",
      "metadata": {
        "id": "2972V-Rnl96R"
      },
      "source": [
        "# Instantiate LeNet & define loss function and optimizer\n"
      ]
    },
    {
      "cell_type": "code",
      "metadata": {
        "id": "324bWioyNWcH"
      },
      "source": [
        "# model\n",
        "model = LeNet().to(device)\n",
        "\n",
        "# Loss function & optimizer\n",
        "criterion = torch.nn.CrossEntropyLoss().to(device)\n",
        "optimizer = torch.optim.Adam(model.parameters(), lr= learning_rate)"
      ],
      "execution_count": 14,
      "outputs": []
    },
    {
      "cell_type": "markdown",
      "metadata": {
        "id": "4rHeiHtuqBJP"
      },
      "source": [
        "# Training"
      ]
    },
    {
      "cell_type": "code",
      "metadata": {
        "colab": {
          "base_uri": "https://localhost:8080/"
        },
        "id": "bReVubbJNhU1",
        "outputId": "f0964eba-832e-4b9b-c5c9-8962fd306710"
      },
      "source": [
        "#Training Model\n",
        "total_batch = len(train_loader)\n",
        "model.train()\n",
        "\n",
        "for epoch in range(num_epochs):\n",
        "  avg_cost = 0\n",
        "  for X, Y in train_loader:\n",
        "    X = X.to(device)\n",
        "    Y = Y.to(device)\n",
        "\n",
        "    optimizer.zero_grad()\n",
        "    hypothesis = model(X)\n",
        "    cost = criterion(hypothesis, Y)\n",
        "    cost.backward()\n",
        "    optimizer.step()\n",
        "\n",
        "    avg_cost += cost / total_batch\n",
        "\n",
        "  print('[Epoch: {:>2}] - Average loss: {:>.4}'.format(epoch+1, avg_cost))\n",
        "print('Learning Finished!') "
      ],
      "execution_count": 15,
      "outputs": [
        {
          "output_type": "stream",
          "text": [
            "[Epoch:  1] - Average loss: 0.6648\n",
            "[Epoch:  2] - Average loss: 0.4437\n",
            "[Epoch:  3] - Average loss: 0.38\n",
            "[Epoch:  4] - Average loss: 0.3434\n",
            "[Epoch:  5] - Average loss: 0.3205\n",
            "[Epoch:  6] - Average loss: 0.3004\n",
            "[Epoch:  7] - Average loss: 0.2877\n",
            "[Epoch:  8] - Average loss: 0.2761\n",
            "[Epoch:  9] - Average loss: 0.2643\n",
            "[Epoch: 10] - Average loss: 0.2563\n",
            "Learning Finished!\n"
          ],
          "name": "stdout"
        }
      ]
    },
    {
      "cell_type": "markdown",
      "metadata": {
        "id": "i6fGudQRqI_G"
      },
      "source": [
        "# Test"
      ]
    },
    {
      "cell_type": "code",
      "metadata": {
        "id": "nytmuoueN8uw",
        "colab": {
          "base_uri": "https://localhost:8080/"
        },
        "outputId": "67bab5fe-f749-4cfb-f722-5c41778b1390"
      },
      "source": [
        "#Model Test\n",
        "with torch.no_grad():\n",
        "  model.eval()\n",
        "  X_test = test_dataset.test_data.view(len(test_dataset), 1, 28, 28).float().to(device)\n",
        "  Y_test = test_dataset.test_labels.to(device)\n",
        "\n",
        "  prediction = model(X_test)\n",
        "  correct_prediction = torch.argmax(prediction, 1) == Y_test\n",
        "  accuracy = correct_prediction.float().mean()\n",
        "  print('Accuracy of the network on the 10000 test images: {:>.4}%'.format(accuracy * 100))"
      ],
      "execution_count": 19,
      "outputs": [
        {
          "output_type": "stream",
          "text": [
            "/usr/local/lib/python3.7/dist-packages/torchvision/datasets/mnist.py:67: UserWarning: test_data has been renamed data\n",
            "  warnings.warn(\"test_data has been renamed data\")\n",
            "/usr/local/lib/python3.7/dist-packages/torchvision/datasets/mnist.py:57: UserWarning: test_labels has been renamed targets\n",
            "  warnings.warn(\"test_labels has been renamed targets\")\n"
          ],
          "name": "stderr"
        },
        {
          "output_type": "stream",
          "text": [
            "Accuracy of the network on the 10000 test images: 80.84%\n"
          ],
          "name": "stdout"
        }
      ]
    }
  ]
}
